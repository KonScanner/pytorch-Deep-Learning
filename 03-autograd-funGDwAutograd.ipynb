{
 "cells": [
  {
   "cell_type": "markdown",
   "metadata": {},
   "source": [
    "# `Numpy` implementation"
   ]
  },
  {
   "cell_type": "code",
   "execution_count": 1,
   "metadata": {},
   "outputs": [],
   "source": [
    "import numpy as np\n",
    "\n",
    "# f = w*x + b , where b = 0"
   ]
  },
  {
   "cell_type": "code",
   "execution_count": 2,
   "metadata": {},
   "outputs": [
    {
     "name": "stdout",
     "output_type": "stream",
     "text": [
      "Prediction before training f(5)=0.000\n"
     ]
    }
   ],
   "source": [
    "# f = 2*x\n",
    "X = np.array([1, 2, 3, 4], dtype=np.float32)\n",
    "Y = 2*X\n",
    "\n",
    "w = 0.0\n",
    "\n",
    "# model prediction\n",
    "def forward(x):\n",
    "    return x*w\n",
    "\n",
    "# loss = MSE\n",
    "def loss(y, y_pred):\n",
    "    return ((y_pred - y)**2).mean()\n",
    "\n",
    "# gradient of loss\n",
    "# MSE = 1/N * (w*x - y)**2\n",
    "# dC/dw = 1/N * 2x *(w*x -y) = 2x * (y_pred - y)\n",
    "def gradient(x,y,y_pred):\n",
    "    return np.dot(2*x, y_pred - y).mean()\n",
    "\n",
    "print(f\"Prediction before training f(5)={forward(5):.3f}\")\n"
   ]
  },
  {
   "cell_type": "code",
   "execution_count": 3,
   "metadata": {},
   "outputs": [
    {
     "name": "stdout",
     "output_type": "stream",
     "text": [
      "epoch=0, weight=1.200, loss=30.00000\n",
      "epoch=2, weight=1.872, loss=0.76800\n",
      "epoch=4, weight=1.980, loss=0.01966\n",
      "epoch=6, weight=1.997, loss=0.00050\n",
      "epoch=8, weight=1.999, loss=0.00001\n",
      "epoch=10, weight=2.000, loss=0.00000\n",
      "epoch=12, weight=2.000, loss=0.00000\n",
      "epoch=14, weight=2.000, loss=0.00000\n",
      "epoch=16, weight=2.000, loss=0.00000\n",
      "epoch=18, weight=2.000, loss=0.00000\n",
      "Prediction after training f(5)=10.000\n"
     ]
    }
   ],
   "source": [
    "# Training\n",
    "learning_rate = 0.01\n",
    "n_iters = 20\n",
    "for epoch in range(n_iters):\n",
    "    # prediction (fwd)\n",
    "    y_pred = forward(X)\n",
    "\n",
    "    # loss\n",
    "    l = loss(Y, y_pred)\n",
    "\n",
    "    # gradients\n",
    "    dw = gradient(X, Y, y_pred)\n",
    "\n",
    "    # update weights\n",
    "    w -= learning_rate * dw\n",
    "    \n",
    "    if epoch % 2 == 0:\n",
    "        print(f\"{epoch=}, weight={w:.3f}, loss={l:.5f}\")\n",
    "print(f\"Prediction after training f(5)={forward(5):.3f}\")"
   ]
  },
  {
   "cell_type": "markdown",
   "metadata": {},
   "source": [
    "# `Pytorch` implementation with `autograd`"
   ]
  },
  {
   "cell_type": "code",
   "execution_count": 4,
   "metadata": {},
   "outputs": [],
   "source": [
    "import torch\n",
    "# f = w*x + b , where b = 0"
   ]
  },
  {
   "cell_type": "code",
   "execution_count": 5,
   "metadata": {},
   "outputs": [
    {
     "name": "stdout",
     "output_type": "stream",
     "text": [
      "Prediction before training f(5)=0.000\n"
     ]
    }
   ],
   "source": [
    "# f = 2*x\n",
    "X = torch.tensor([1, 2, 3, 4], dtype=torch.float32)\n",
    "Y = 2*X\n",
    "\n",
    "w = torch.tensor(0.0, dtype=torch.float32, requires_grad=True)\n",
    "\n",
    "# model prediction\n",
    "def forward(x):\n",
    "    return x*w\n",
    "\n",
    "# loss = MSE\n",
    "def loss(y, y_pred):\n",
    "    return ((y_pred - y)**2).mean()\n",
    "\n",
    "# gradient of loss\n",
    "# MSE = 1/N * (w*x - y)**2\n",
    "# dC/dw = 1/N * 2x *(w*x -y) = 2x * (y_pred - y)\n",
    "\n",
    "print(f\"Prediction before training f(5)={forward(5):.3f}\")\n"
   ]
  },
  {
   "cell_type": "code",
   "execution_count": 6,
   "metadata": {},
   "outputs": [
    {
     "name": "stdout",
     "output_type": "stream",
     "text": [
      "epoch=0, weight=0.300, loss=30.00000\n",
      "epoch=10, weight=1.665, loss=1.16279\n",
      "epoch=20, weight=1.934, loss=0.04507\n",
      "epoch=30, weight=1.987, loss=0.00175\n",
      "epoch=40, weight=1.997, loss=0.00007\n",
      "epoch=50, weight=1.999, loss=0.00000\n",
      "epoch=60, weight=2.000, loss=0.00000\n",
      "epoch=70, weight=2.000, loss=0.00000\n",
      "epoch=80, weight=2.000, loss=0.00000\n",
      "epoch=90, weight=2.000, loss=0.00000\n",
      "Prediction after training f(5)=10.000\n"
     ]
    }
   ],
   "source": [
    "# Training\n",
    "learning_rate = 0.01\n",
    "n_iters = 100\n",
    "for epoch in range(n_iters):\n",
    "    # prediction (fwd)\n",
    "    y_pred = forward(X)\n",
    "\n",
    "    # loss\n",
    "    l = loss(Y, y_pred)\n",
    "\n",
    "    # gradients = Backward pass\n",
    "    l.backward() # dl/dw\n",
    "\n",
    "    # update weights\n",
    "    with torch.no_grad():\n",
    "    \tw -= learning_rate * w.grad\n",
    "    \n",
    "    # zero gradients before next iteration\n",
    "    w.grad.zero_()\n",
    "    \n",
    "    if epoch % 10 == 0:\n",
    "        print(f\"{epoch=}, weight={w:.3f}, loss={l:.5f}\")\n",
    "print(f\"Prediction after training f(5)={forward(5):.3f}\")"
   ]
  }
 ],
 "metadata": {
  "interpreter": {
   "hash": "916dbcbb3f70747c44a77c7bcd40155683ae19c65e1c03b4aa3499c5328201f1"
  },
  "kernelspec": {
   "display_name": "Python 3.9.7 64-bit",
   "language": "python",
   "name": "python3"
  },
  "language_info": {
   "codemirror_mode": {
    "name": "ipython",
    "version": 3
   },
   "file_extension": ".py",
   "mimetype": "text/x-python",
   "name": "python",
   "nbconvert_exporter": "python",
   "pygments_lexer": "ipython3",
   "version": "3.9.7"
  },
  "orig_nbformat": 4
 },
 "nbformat": 4,
 "nbformat_minor": 2
}
